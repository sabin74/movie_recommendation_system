{
 "cells": [
  {
   "cell_type": "code",
   "execution_count": 1,
   "id": "8f6ba268-b0f6-45d4-8edc-7f185af93958",
   "metadata": {},
   "outputs": [],
   "source": [
    "import numpy as np \n",
    "import pandas as pd \n",
    "import matplotlib.pyplot as plt \n",
    "import seaborn as sns \n",
    "import re"
   ]
  },
  {
   "cell_type": "code",
   "execution_count": 2,
   "id": "edfd97ab-2d5b-49b1-bc81-d71776ddfb18",
   "metadata": {},
   "outputs": [],
   "source": [
    "movies = pd.read_csv(\"./ml-latest-small/movies.csv\")"
   ]
  },
  {
   "cell_type": "code",
   "execution_count": 3,
   "id": "6b1e5079-a07e-42c9-a900-134dc5924469",
   "metadata": {},
   "outputs": [
    {
     "data": {
      "text/html": [
       "<div>\n",
       "<style scoped>\n",
       "    .dataframe tbody tr th:only-of-type {\n",
       "        vertical-align: middle;\n",
       "    }\n",
       "\n",
       "    .dataframe tbody tr th {\n",
       "        vertical-align: top;\n",
       "    }\n",
       "\n",
       "    .dataframe thead th {\n",
       "        text-align: right;\n",
       "    }\n",
       "</style>\n",
       "<table border=\"1\" class=\"dataframe\">\n",
       "  <thead>\n",
       "    <tr style=\"text-align: right;\">\n",
       "      <th></th>\n",
       "      <th>movieId</th>\n",
       "      <th>title</th>\n",
       "      <th>genres</th>\n",
       "    </tr>\n",
       "  </thead>\n",
       "  <tbody>\n",
       "    <tr>\n",
       "      <th>0</th>\n",
       "      <td>1</td>\n",
       "      <td>Toy Story (1995)</td>\n",
       "      <td>Adventure|Animation|Children|Comedy|Fantasy</td>\n",
       "    </tr>\n",
       "    <tr>\n",
       "      <th>1</th>\n",
       "      <td>2</td>\n",
       "      <td>Jumanji (1995)</td>\n",
       "      <td>Adventure|Children|Fantasy</td>\n",
       "    </tr>\n",
       "    <tr>\n",
       "      <th>2</th>\n",
       "      <td>3</td>\n",
       "      <td>Grumpier Old Men (1995)</td>\n",
       "      <td>Comedy|Romance</td>\n",
       "    </tr>\n",
       "  </tbody>\n",
       "</table>\n",
       "</div>"
      ],
      "text/plain": [
       "   movieId                    title  \\\n",
       "0        1         Toy Story (1995)   \n",
       "1        2           Jumanji (1995)   \n",
       "2        3  Grumpier Old Men (1995)   \n",
       "\n",
       "                                        genres  \n",
       "0  Adventure|Animation|Children|Comedy|Fantasy  \n",
       "1                   Adventure|Children|Fantasy  \n",
       "2                               Comedy|Romance  "
      ]
     },
     "execution_count": 3,
     "metadata": {},
     "output_type": "execute_result"
    }
   ],
   "source": [
    "movies.head(3)"
   ]
  },
  {
   "cell_type": "code",
   "execution_count": 4,
   "id": "e00bc0ea-489a-4043-9378-387a9a49a1ee",
   "metadata": {},
   "outputs": [
    {
     "name": "stdout",
     "output_type": "stream",
     "text": [
      "<class 'pandas.core.frame.DataFrame'>\n",
      "RangeIndex: 9742 entries, 0 to 9741\n",
      "Data columns (total 3 columns):\n",
      " #   Column   Non-Null Count  Dtype \n",
      "---  ------   --------------  ----- \n",
      " 0   movieId  9742 non-null   int64 \n",
      " 1   title    9742 non-null   object\n",
      " 2   genres   9742 non-null   object\n",
      "dtypes: int64(1), object(2)\n",
      "memory usage: 228.5+ KB\n"
     ]
    }
   ],
   "source": [
    "movies.info()"
   ]
  },
  {
   "cell_type": "code",
   "execution_count": 5,
   "id": "9072c246-bb84-46c8-8ceb-70510821c2ab",
   "metadata": {},
   "outputs": [
    {
     "data": {
      "text/html": [
       "<div>\n",
       "<style scoped>\n",
       "    .dataframe tbody tr th:only-of-type {\n",
       "        vertical-align: middle;\n",
       "    }\n",
       "\n",
       "    .dataframe tbody tr th {\n",
       "        vertical-align: top;\n",
       "    }\n",
       "\n",
       "    .dataframe thead th {\n",
       "        text-align: right;\n",
       "    }\n",
       "</style>\n",
       "<table border=\"1\" class=\"dataframe\">\n",
       "  <thead>\n",
       "    <tr style=\"text-align: right;\">\n",
       "      <th></th>\n",
       "      <th>movieId</th>\n",
       "    </tr>\n",
       "  </thead>\n",
       "  <tbody>\n",
       "    <tr>\n",
       "      <th>count</th>\n",
       "      <td>9742.000000</td>\n",
       "    </tr>\n",
       "    <tr>\n",
       "      <th>mean</th>\n",
       "      <td>42200.353623</td>\n",
       "    </tr>\n",
       "    <tr>\n",
       "      <th>std</th>\n",
       "      <td>52160.494854</td>\n",
       "    </tr>\n",
       "    <tr>\n",
       "      <th>min</th>\n",
       "      <td>1.000000</td>\n",
       "    </tr>\n",
       "    <tr>\n",
       "      <th>25%</th>\n",
       "      <td>3248.250000</td>\n",
       "    </tr>\n",
       "    <tr>\n",
       "      <th>50%</th>\n",
       "      <td>7300.000000</td>\n",
       "    </tr>\n",
       "    <tr>\n",
       "      <th>75%</th>\n",
       "      <td>76232.000000</td>\n",
       "    </tr>\n",
       "    <tr>\n",
       "      <th>max</th>\n",
       "      <td>193609.000000</td>\n",
       "    </tr>\n",
       "  </tbody>\n",
       "</table>\n",
       "</div>"
      ],
      "text/plain": [
       "             movieId\n",
       "count    9742.000000\n",
       "mean    42200.353623\n",
       "std     52160.494854\n",
       "min         1.000000\n",
       "25%      3248.250000\n",
       "50%      7300.000000\n",
       "75%     76232.000000\n",
       "max    193609.000000"
      ]
     },
     "execution_count": 5,
     "metadata": {},
     "output_type": "execute_result"
    }
   ],
   "source": [
    "movies.describe()"
   ]
  },
  {
   "cell_type": "code",
   "execution_count": 6,
   "id": "e3a51baa-2728-4eed-b692-bfdb61f128bc",
   "metadata": {},
   "outputs": [
    {
     "data": {
      "text/plain": [
       "movieId    0\n",
       "title      0\n",
       "genres     0\n",
       "dtype: int64"
      ]
     },
     "execution_count": 6,
     "metadata": {},
     "output_type": "execute_result"
    }
   ],
   "source": [
    "movies.isnull().sum()"
   ]
  },
  {
   "cell_type": "code",
   "execution_count": 7,
   "id": "cfe67230-8a70-4d22-aa59-84191c823906",
   "metadata": {},
   "outputs": [
    {
     "data": {
      "text/plain": [
       "np.int64(0)"
      ]
     },
     "execution_count": 7,
     "metadata": {},
     "output_type": "execute_result"
    }
   ],
   "source": [
    "movies.duplicated().sum()"
   ]
  },
  {
   "cell_type": "code",
   "execution_count": 8,
   "id": "56c154d3-fb64-46ab-a7ea-e60e865263d0",
   "metadata": {},
   "outputs": [],
   "source": [
    "def extract_year(title):\n",
    "    match = re.search(r\"\\((\\d{4})\\)\", title) \n",
    "    return int(match.group(1)) if match else None"
   ]
  },
  {
   "cell_type": "code",
   "execution_count": 9,
   "id": "9c93d4c2-f194-42bc-bea9-22aa43c55951",
   "metadata": {},
   "outputs": [],
   "source": [
    "movies['year'] = movies['title'].apply(extract_year)"
   ]
  },
  {
   "cell_type": "code",
   "execution_count": 10,
   "id": "20d26b72-3aa0-4ee2-9839-542ac6dc0941",
   "metadata": {},
   "outputs": [],
   "source": [
    "movies['clean_title'] = movies['title'].apply(lambda x: re.sub(r'\\s*\\(\\d{4}\\)', '', x))"
   ]
  },
  {
   "cell_type": "code",
   "execution_count": 11,
   "id": "584735de-d074-4c90-913f-7b79d0c5008d",
   "metadata": {},
   "outputs": [
    {
     "data": {
      "text/html": [
       "<div>\n",
       "<style scoped>\n",
       "    .dataframe tbody tr th:only-of-type {\n",
       "        vertical-align: middle;\n",
       "    }\n",
       "\n",
       "    .dataframe tbody tr th {\n",
       "        vertical-align: top;\n",
       "    }\n",
       "\n",
       "    .dataframe thead th {\n",
       "        text-align: right;\n",
       "    }\n",
       "</style>\n",
       "<table border=\"1\" class=\"dataframe\">\n",
       "  <thead>\n",
       "    <tr style=\"text-align: right;\">\n",
       "      <th></th>\n",
       "      <th>movieId</th>\n",
       "      <th>title</th>\n",
       "      <th>genres</th>\n",
       "      <th>year</th>\n",
       "      <th>clean_title</th>\n",
       "    </tr>\n",
       "  </thead>\n",
       "  <tbody>\n",
       "    <tr>\n",
       "      <th>0</th>\n",
       "      <td>1</td>\n",
       "      <td>Toy Story (1995)</td>\n",
       "      <td>Adventure|Animation|Children|Comedy|Fantasy</td>\n",
       "      <td>1995.0</td>\n",
       "      <td>Toy Story</td>\n",
       "    </tr>\n",
       "    <tr>\n",
       "      <th>1</th>\n",
       "      <td>2</td>\n",
       "      <td>Jumanji (1995)</td>\n",
       "      <td>Adventure|Children|Fantasy</td>\n",
       "      <td>1995.0</td>\n",
       "      <td>Jumanji</td>\n",
       "    </tr>\n",
       "    <tr>\n",
       "      <th>2</th>\n",
       "      <td>3</td>\n",
       "      <td>Grumpier Old Men (1995)</td>\n",
       "      <td>Comedy|Romance</td>\n",
       "      <td>1995.0</td>\n",
       "      <td>Grumpier Old Men</td>\n",
       "    </tr>\n",
       "  </tbody>\n",
       "</table>\n",
       "</div>"
      ],
      "text/plain": [
       "   movieId                    title  \\\n",
       "0        1         Toy Story (1995)   \n",
       "1        2           Jumanji (1995)   \n",
       "2        3  Grumpier Old Men (1995)   \n",
       "\n",
       "                                        genres    year       clean_title  \n",
       "0  Adventure|Animation|Children|Comedy|Fantasy  1995.0         Toy Story  \n",
       "1                   Adventure|Children|Fantasy  1995.0           Jumanji  \n",
       "2                               Comedy|Romance  1995.0  Grumpier Old Men  "
      ]
     },
     "execution_count": 11,
     "metadata": {},
     "output_type": "execute_result"
    }
   ],
   "source": [
    "movies.head(3)"
   ]
  },
  {
   "cell_type": "code",
   "execution_count": 12,
   "id": "0625d88d-1de9-43fa-a5d3-526a135f39bb",
   "metadata": {},
   "outputs": [
    {
     "data": {
      "text/plain": [
       "np.int64(13)"
      ]
     },
     "execution_count": 12,
     "metadata": {},
     "output_type": "execute_result"
    }
   ],
   "source": [
    "movies['year'].isnull().sum()"
   ]
  },
  {
   "cell_type": "code",
   "execution_count": 13,
   "id": "0012c56e-f53b-44ed-be86-278d36330e1d",
   "metadata": {},
   "outputs": [
    {
     "data": {
      "text/plain": [
       "(9742, 5)"
      ]
     },
     "execution_count": 13,
     "metadata": {},
     "output_type": "execute_result"
    }
   ],
   "source": [
    "movies.shape"
   ]
  },
  {
   "cell_type": "code",
   "execution_count": 14,
   "id": "19f559fd-a6b2-4ddd-867d-feb44b73e914",
   "metadata": {},
   "outputs": [],
   "source": [
    "movies =movies.dropna(subset = ['year'])"
   ]
  },
  {
   "cell_type": "code",
   "execution_count": 15,
   "id": "86a80de4-6aae-4af7-8765-2a2a6c3c7fbf",
   "metadata": {},
   "outputs": [
    {
     "data": {
      "text/plain": [
       "9729"
      ]
     },
     "execution_count": 15,
     "metadata": {},
     "output_type": "execute_result"
    }
   ],
   "source": [
    "len(movies)"
   ]
  },
  {
   "cell_type": "markdown",
   "id": "f0fcae59-f92b-4bd7-9a1c-d647678430af",
   "metadata": {},
   "source": [
    "## Number of Movies per year"
   ]
  },
  {
   "cell_type": "code",
   "execution_count": 16,
   "id": "d176f5d4-9a2b-4a09-a498-e81d00e9bba1",
   "metadata": {},
   "outputs": [
    {
     "data": {
      "image/png": "[encoded data removed]",
      "text/plain": [
       "<Figure size 1400x600 with 1 Axes>"
      ]
     },
     "metadata": {},
     "output_type": "display_data"
    }
   ],
   "source": [
    "plt.figure(figsize=(14, 6))\n",
    "sns.histplot(movies['year'], bins=50, kde=False, color='skyblue')\n",
    "plt.title('Number of Movies released per year')\n",
    "plt.xlabel('Year Released')\n",
    "plt.ylabel('Number of Movies')\n",
    "plt.grid(True)\n",
    "plt.show()"
   ]
  },
  {
   "cell_type": "markdown",
   "id": "4cbb90fa-02e4-404b-bd82-db822b4982af",
   "metadata": {},
   "source": [
    "## Distribution of Genres"
   ]
  },
  {
   "cell_type": "code",
   "execution_count": 17,
   "id": "e5e996c8-b29d-4f35-a87d-abae57da674f",
   "metadata": {},
   "outputs": [
    {
     "data": {
      "text/plain": [
       "genres\n",
       "Drama                   1052\n",
       "Comedy                   946\n",
       "Comedy|Drama             435\n",
       "Comedy|Romance           363\n",
       "Drama|Romance            349\n",
       "Documentary              339\n",
       "Comedy|Drama|Romance     276\n",
       "Horror                   167\n",
       "Drama|Thriller           167\n",
       "Horror|Thriller          135\n",
       "Name: count, dtype: int64"
      ]
     },
     "execution_count": 17,
     "metadata": {},
     "output_type": "execute_result"
    }
   ],
   "source": [
    "top_genre_combos = movies['genres'].value_counts().head(10)\n",
    "top_genre_combos"
   ]
  },
  {
   "cell_type": "code",
   "execution_count": 18,
   "id": "a88e7ac5-a703-43cc-b383-bf9db20926ee",
   "metadata": {},
   "outputs": [],
   "source": [
    "from collections import Counter"
   ]
  },
  {
   "cell_type": "code",
   "execution_count": 19,
   "id": "f0b0a789-93cb-4cb5-b4b1-92db35f3c77f",
   "metadata": {},
   "outputs": [],
   "source": [
    "genre_list = movies['genres'].str.split('|').tolist()\n",
    "flat_genre_list = [genre for sublist in genre_list for genre in sublist]\n",
    "genre_counts = Counter(flat_genre_list)"
   ]
  },
  {
   "cell_type": "code",
   "execution_count": 20,
   "id": "e2d3a4c5-6020-480a-9927-6614690bbc34",
   "metadata": {},
   "outputs": [
    {
     "data": {
      "text/plain": [
       "Counter({'Drama': 4359,\n",
       "         'Comedy': 3756,\n",
       "         'Thriller': 1892,\n",
       "         'Action': 1827,\n",
       "         'Romance': 1596,\n",
       "         'Adventure': 1263,\n",
       "         'Crime': 1199,\n",
       "         'Horror': 978,\n",
       "         'Sci-Fi': 978,\n",
       "         'Fantasy': 779,\n",
       "         'Children': 664,\n",
       "         'Animation': 611,\n",
       "         'Mystery': 573,\n",
       "         'Documentary': 440,\n",
       "         'War': 382,\n",
       "         'Musical': 334,\n",
       "         'Western': 167,\n",
       "         'IMAX': 158,\n",
       "         'Film-Noir': 87,\n",
       "         '(no genres listed)': 25})"
      ]
     },
     "execution_count": 20,
     "metadata": {},
     "output_type": "execute_result"
    }
   ],
   "source": [
    "genre_counts"
   ]
  },
  {
   "cell_type": "code",
   "execution_count": 21,
   "id": "cdc9e228-6aae-49a4-bd64-1efc561caec9",
   "metadata": {},
   "outputs": [],
   "source": [
    "genre_df = pd.DataFrame(\n",
    "    genre_counts.items(),\n",
    "    columns=['Genre', 'Count'],\n",
    ").sort_values(by='Count', ascending=False)"
   ]
  },
  {
   "cell_type": "code",
   "execution_count": 22,
   "id": "ff73510c-dedd-42c2-8e72-7d995f64bdc3",
   "metadata": {},
   "outputs": [
    {
     "data": {
      "text/html": [
       "<div>\n",
       "<style scoped>\n",
       "    .dataframe tbody tr th:only-of-type {\n",
       "        vertical-align: middle;\n",
       "    }\n",
       "\n",
       "    .dataframe tbody tr th {\n",
       "        vertical-align: top;\n",
       "    }\n",
       "\n",
       "    .dataframe thead th {\n",
       "        text-align: right;\n",
       "    }\n",
       "</style>\n",
       "<table border=\"1\" class=\"dataframe\">\n",
       "  <thead>\n",
       "    <tr style=\"text-align: right;\">\n",
       "      <th></th>\n",
       "      <th>Genre</th>\n",
       "      <th>Count</th>\n",
       "    </tr>\n",
       "  </thead>\n",
       "  <tbody>\n",
       "    <tr>\n",
       "      <th>6</th>\n",
       "      <td>Drama</td>\n",
       "      <td>4359</td>\n",
       "    </tr>\n",
       "    <tr>\n",
       "      <th>3</th>\n",
       "      <td>Comedy</td>\n",
       "      <td>3756</td>\n",
       "    </tr>\n",
       "    <tr>\n",
       "      <th>9</th>\n",
       "      <td>Thriller</td>\n",
       "      <td>1892</td>\n",
       "    </tr>\n",
       "    <tr>\n",
       "      <th>7</th>\n",
       "      <td>Action</td>\n",
       "      <td>1827</td>\n",
       "    </tr>\n",
       "    <tr>\n",
       "      <th>5</th>\n",
       "      <td>Romance</td>\n",
       "      <td>1596</td>\n",
       "    </tr>\n",
       "  </tbody>\n",
       "</table>\n",
       "</div>"
      ],
      "text/plain": [
       "      Genre  Count\n",
       "6     Drama   4359\n",
       "3    Comedy   3756\n",
       "9  Thriller   1892\n",
       "7    Action   1827\n",
       "5   Romance   1596"
      ]
     },
     "execution_count": 22,
     "metadata": {},
     "output_type": "execute_result"
    }
   ],
   "source": [
    "genre_df.head()"
   ]
  },
  {
   "cell_type": "code",
   "execution_count": 23,
   "id": "b6335850-a2ca-4476-9849-a1eb5f176d90",
   "metadata": {},
   "outputs": [
    {
     "data": {
      "image/png": "[encoded data removed]",
      "text/plain": [
       "<Figure size 1200x600 with 1 Axes>"
      ]
     },
     "metadata": {},
     "output_type": "display_data"
    }
   ],
   "source": [
    "plt.figure(figsize=(12, 6))\n",
    "sns.barplot(data=genre_df, x='Genre', y='Count', palette='viridis', hue='Genre', legend=False)\n",
    "plt.title('Distribution of Genres')\n",
    "plt.xlabel('Genres')\n",
    "plt.ylabel('Number of Genres')\n",
    "plt.xticks(rotation=42)\n",
    "plt.tight_layout()\n",
    "plt.show()"
   ]
  },
  {
   "cell_type": "code",
   "execution_count": 24,
   "id": "1d577bc1-6412-466d-8802-65baa6624943",
   "metadata": {},
   "outputs": [
    {
     "data": {
      "text/plain": [
       "clean_title\n",
       "Hamlet                   5\n",
       "Christmas Carol, A       4\n",
       "Misérables, Les          4\n",
       "Three Musketeers, The    4\n",
       "Jane Eyre                4\n",
       "Name: count, dtype: int64"
      ]
     },
     "execution_count": 24,
     "metadata": {},
     "output_type": "execute_result"
    }
   ],
   "source": [
    "## Most common movies title\n",
    "movies['clean_title'].value_counts().head()"
   ]
  },
  {
   "cell_type": "markdown",
   "id": "b17477b7-b33b-482f-b97d-19f509354254",
   "metadata": {},
   "source": [
    "## Feature Extraction using TF-IDF"
   ]
  },
  {
   "cell_type": "code",
   "execution_count": 25,
   "id": "659c88ea-d201-4e35-8a68-fbdf8de0978c",
   "metadata": {},
   "outputs": [],
   "source": [
    "from sklearn.feature_extraction.text import TfidfVectorizer\n",
    "from sklearn.metrics.pairwise import cosine_similarity"
   ]
  },
  {
   "cell_type": "code",
   "execution_count": 26,
   "id": "0c7bacc2-78cf-4ec5-9189-b40c83e7cb38",
   "metadata": {},
   "outputs": [],
   "source": [
    "movies['genres'] = movies['genres'].replace('(no genres listed)', '')"
   ]
  },
  {
   "cell_type": "code",
   "execution_count": 27,
   "id": "e5c6539b-06be-48c6-b6c3-05b9a3f1161f",
   "metadata": {},
   "outputs": [],
   "source": [
    "tfidf = TfidfVectorizer(token_pattern=r\"(?u)\\b\\w+\\b\")\n",
    "tfidf_matrix = tfidf.fit_transform(movies['genres'])"
   ]
  },
  {
   "cell_type": "code",
   "execution_count": 28,
   "id": "aa1de906-7e18-41e8-a439-99b235b5b61b",
   "metadata": {},
   "outputs": [
    {
     "data": {
      "text/plain": [
       "(9729, 21)"
      ]
     },
     "execution_count": 28,
     "metadata": {},
     "output_type": "execute_result"
    }
   ],
   "source": [
    "tfidf_matrix.shape"
   ]
  },
  {
   "cell_type": "code",
   "execution_count": 29,
   "id": "df15a4d1-882a-4183-a5f1-4b1cf4fce3fd",
   "metadata": {},
   "outputs": [],
   "source": [
    "cosine_sim = cosine_similarity(tfidf_matrix, tfidf_matrix)"
   ]
  },
  {
   "cell_type": "code",
   "execution_count": 30,
   "id": "e1fc2da8-2644-42b5-8043-9eaa7facea4d",
   "metadata": {},
   "outputs": [
    {
     "data": {
      "text/plain": [
       "array([[1.        , 0.81358761, 0.15270449, 0.13507634, 0.26751064],\n",
       "       [0.81358761, 1.        , 0.        , 0.        , 0.        ],\n",
       "       [0.15270449, 0.        , 1.        , 0.88456037, 0.57083522],\n",
       "       [0.13507634, 0.        , 0.88456037, 1.        , 0.50493821],\n",
       "       [0.26751064, 0.        , 0.57083522, 0.50493821, 1.        ]])"
      ]
     },
     "execution_count": 30,
     "metadata": {},
     "output_type": "execute_result"
    }
   ],
   "source": [
    "cosine_sim[:5, :5]"
   ]
  },
  {
   "cell_type": "markdown",
   "id": "5654d6b1-853d-443d-96fd-da47b8fd5c69",
   "metadata": {},
   "source": [
    "## Build The Recommendation System"
   ]
  },
  {
   "cell_type": "code",
   "execution_count": 31,
   "id": "b4383048-a795-4047-b060-4b1e37d570b6",
   "metadata": {},
   "outputs": [],
   "source": [
    "movies = movies.reset_index()"
   ]
  },
  {
   "cell_type": "code",
   "execution_count": 32,
   "id": "b57f3784-5010-4897-925a-39cf253925bb",
   "metadata": {},
   "outputs": [
    {
     "data": {
      "text/plain": [
       "clean_title\n",
       "toy story                                0\n",
       "jumanji                                  1\n",
       "grumpier old men                         2\n",
       "waiting to exhale                        3\n",
       "father of the bride part ii              4\n",
       "                                      ... \n",
       "black butler: book of the atlantic    9724\n",
       "no game no life: zero                 9725\n",
       "flint                                 9726\n",
       "bungo stray dogs: dead apple          9727\n",
       "andrew dice clay: dice rules          9728\n",
       "Length: 9729, dtype: int64"
      ]
     },
     "execution_count": 32,
     "metadata": {},
     "output_type": "execute_result"
    }
   ],
   "source": [
    "title_to_index = pd.Series(movies.index, index=movies['clean_title'].str.lower())\n",
    "title_to_index"
   ]
  },
  {
   "cell_type": "code",
   "execution_count": 33,
   "id": "187ce15b-7745-4566-8dff-212eb00ffe87",
   "metadata": {},
   "outputs": [],
   "source": [
    "def recommend_movies(title, top_n=10):\n",
    "    title = title.lower()\n",
    "    if title not in title_to_index: \n",
    "        print(f\"Movie {title} not found in the dataset.\")\n",
    "        return [] \n",
    "\n",
    "    idx = title_to_index[title] \n",
    "    sim_scores = list(enumerate(cosine_sim[idx]))\n",
    "\n",
    "    sim_scores = sorted(sim_scores, key=lambda x: x[1], reverse=True)[1:top_n+1]\n",
    "\n",
    "    movies_indices = [i[0] for i in sim_scores]\n",
    "\n",
    "    return movies[['clean_title', 'genres']].iloc[movies_indices]"
   ]
  },
  {
   "cell_type": "code",
   "execution_count": 34,
   "id": "38073b5e-1047-496c-ab3a-da613dca8bc9",
   "metadata": {},
   "outputs": [
    {
     "data": {
      "text/html": [
       "<div>\n",
       "<style scoped>\n",
       "    .dataframe tbody tr th:only-of-type {\n",
       "        vertical-align: middle;\n",
       "    }\n",
       "\n",
       "    .dataframe tbody tr th {\n",
       "        vertical-align: top;\n",
       "    }\n",
       "\n",
       "    .dataframe thead th {\n",
       "        text-align: right;\n",
       "    }\n",
       "</style>\n",
       "<table border=\"1\" class=\"dataframe\">\n",
       "  <thead>\n",
       "    <tr style=\"text-align: right;\">\n",
       "      <th></th>\n",
       "      <th>clean_title</th>\n",
       "      <th>genres</th>\n",
       "    </tr>\n",
       "  </thead>\n",
       "  <tbody>\n",
       "    <tr>\n",
       "      <th>1706</th>\n",
       "      <td>Antz</td>\n",
       "      <td>Adventure|Animation|Children|Comedy|Fantasy</td>\n",
       "    </tr>\n",
       "    <tr>\n",
       "      <th>2355</th>\n",
       "      <td>Toy Story 2</td>\n",
       "      <td>Adventure|Animation|Children|Comedy|Fantasy</td>\n",
       "    </tr>\n",
       "    <tr>\n",
       "      <th>2809</th>\n",
       "      <td>Adventures of Rocky and Bullwinkle, The</td>\n",
       "      <td>Adventure|Animation|Children|Comedy|Fantasy</td>\n",
       "    </tr>\n",
       "    <tr>\n",
       "      <th>3000</th>\n",
       "      <td>Emperor's New Groove, The</td>\n",
       "      <td>Adventure|Animation|Children|Comedy|Fantasy</td>\n",
       "    </tr>\n",
       "    <tr>\n",
       "      <th>3568</th>\n",
       "      <td>Monsters, Inc.</td>\n",
       "      <td>Adventure|Animation|Children|Comedy|Fantasy</td>\n",
       "    </tr>\n",
       "    <tr>\n",
       "      <th>6193</th>\n",
       "      <td>Wild, The</td>\n",
       "      <td>Adventure|Animation|Children|Comedy|Fantasy</td>\n",
       "    </tr>\n",
       "    <tr>\n",
       "      <th>6485</th>\n",
       "      <td>Shrek the Third</td>\n",
       "      <td>Adventure|Animation|Children|Comedy|Fantasy</td>\n",
       "    </tr>\n",
       "    <tr>\n",
       "      <th>6947</th>\n",
       "      <td>Tale of Despereaux, The</td>\n",
       "      <td>Adventure|Animation|Children|Comedy|Fantasy</td>\n",
       "    </tr>\n",
       "    <tr>\n",
       "      <th>7759</th>\n",
       "      <td>Asterix and the Vikings (Astérix et les Vikings)</td>\n",
       "      <td>Adventure|Animation|Children|Comedy|Fantasy</td>\n",
       "    </tr>\n",
       "    <tr>\n",
       "      <th>8218</th>\n",
       "      <td>Turbo</td>\n",
       "      <td>Adventure|Animation|Children|Comedy|Fantasy</td>\n",
       "    </tr>\n",
       "  </tbody>\n",
       "</table>\n",
       "</div>"
      ],
      "text/plain": [
       "                                           clean_title  \\\n",
       "1706                                              Antz   \n",
       "2355                                       Toy Story 2   \n",
       "2809           Adventures of Rocky and Bullwinkle, The   \n",
       "3000                         Emperor's New Groove, The   \n",
       "3568                                    Monsters, Inc.   \n",
       "6193                                         Wild, The   \n",
       "6485                                   Shrek the Third   \n",
       "6947                           Tale of Despereaux, The   \n",
       "7759  Asterix and the Vikings (Astérix et les Vikings)   \n",
       "8218                                             Turbo   \n",
       "\n",
       "                                           genres  \n",
       "1706  Adventure|Animation|Children|Comedy|Fantasy  \n",
       "2355  Adventure|Animation|Children|Comedy|Fantasy  \n",
       "2809  Adventure|Animation|Children|Comedy|Fantasy  \n",
       "3000  Adventure|Animation|Children|Comedy|Fantasy  \n",
       "3568  Adventure|Animation|Children|Comedy|Fantasy  \n",
       "6193  Adventure|Animation|Children|Comedy|Fantasy  \n",
       "6485  Adventure|Animation|Children|Comedy|Fantasy  \n",
       "6947  Adventure|Animation|Children|Comedy|Fantasy  \n",
       "7759  Adventure|Animation|Children|Comedy|Fantasy  \n",
       "8218  Adventure|Animation|Children|Comedy|Fantasy  "
      ]
     },
     "execution_count": 34,
     "metadata": {},
     "output_type": "execute_result"
    }
   ],
   "source": [
    "recommendations = recommend_movies('Toy Story')\n",
    "recommendations"
   ]
  },
  {
   "cell_type": "markdown",
   "id": "0665cff0-f5a2-4534-b334-24d0e22f7c6d",
   "metadata": {},
   "source": [
    "## Enrich Content for TF-IDF (Using Title + Genres)"
   ]
  },
  {
   "cell_type": "code",
   "execution_count": 35,
   "id": "4952cfcb-55b1-4028-a21d-a3123024d442",
   "metadata": {},
   "outputs": [],
   "source": [
    "movies['content'] = movies['clean_title'] + ' ' + movies['genres'].str.replace('|', ' ')"
   ]
  },
  {
   "cell_type": "code",
   "execution_count": 36,
   "id": "92a96e57-ff92-49fa-990d-f54d0b30ed19",
   "metadata": {},
   "outputs": [],
   "source": [
    "tfidf = TfidfVectorizer(stop_words='english')\n",
    "tfidf_matrix = tfidf.fit_transform(movies['content'])"
   ]
  },
  {
   "cell_type": "code",
   "execution_count": 37,
   "id": "882a4993-3de1-4c76-a63f-a077388814e0",
   "metadata": {},
   "outputs": [],
   "source": [
    "cosine_sim = cosine_similarity(tfidf_matrix, tfidf_matrix)"
   ]
  },
  {
   "cell_type": "code",
   "execution_count": 38,
   "id": "990c1407-87cd-4039-87d1-480eb331a885",
   "metadata": {},
   "outputs": [
    {
     "data": {
      "text/plain": [
       "(9729, 8961)"
      ]
     },
     "execution_count": 38,
     "metadata": {},
     "output_type": "execute_result"
    }
   ],
   "source": [
    "tfidf_matrix.shape"
   ]
  },
  {
   "cell_type": "code",
   "execution_count": 39,
   "id": "c8f27c5d-c154-40fb-891f-cd08ab8af920",
   "metadata": {},
   "outputs": [],
   "source": [
    "title_to_index = pd.Series(movies.index, index=movies['clean_title'].str.lower())"
   ]
  },
  {
   "cell_type": "code",
   "execution_count": 40,
   "id": "b54d4299-a61a-4b22-a596-012bd0fdc527",
   "metadata": {},
   "outputs": [],
   "source": [
    "def recommend_movies(title, top_n=10):\n",
    "    title = title.lower()\n",
    "\n",
    "    if title not in title_to_index: \n",
    "        print(f\"Movie {title} not found in dataset\")\n",
    "        return []\n",
    "\n",
    "    idx= title_to_index[title] \n",
    "    sim_scores = list(enumerate(cosine_sim[idx]))\n",
    "    sim_scores = sorted(sim_scores, key=lambda x: x[1], reverse=True)[1:top_n+1]\n",
    "\n",
    "    movie_indices = [i[0] for i in sim_scores]\n",
    "\n",
    "    return movies[['clean_title', 'genres']].iloc[movie_indices]"
   ]
  },
  {
   "cell_type": "code",
   "execution_count": 41,
   "id": "7a963a1a-e824-49d0-8d25-d5c90121722e",
   "metadata": {},
   "outputs": [
    {
     "data": {
      "text/html": [
       "<div>\n",
       "<style scoped>\n",
       "    .dataframe tbody tr th:only-of-type {\n",
       "        vertical-align: middle;\n",
       "    }\n",
       "\n",
       "    .dataframe tbody tr th {\n",
       "        vertical-align: top;\n",
       "    }\n",
       "\n",
       "    .dataframe thead th {\n",
       "        text-align: right;\n",
       "    }\n",
       "</style>\n",
       "<table border=\"1\" class=\"dataframe\">\n",
       "  <thead>\n",
       "    <tr style=\"text-align: right;\">\n",
       "      <th></th>\n",
       "      <th>clean_title</th>\n",
       "      <th>genres</th>\n",
       "    </tr>\n",
       "  </thead>\n",
       "  <tbody>\n",
       "    <tr>\n",
       "      <th>2355</th>\n",
       "      <td>Toy Story 2</td>\n",
       "      <td>Adventure|Animation|Children|Comedy|Fantasy</td>\n",
       "    </tr>\n",
       "    <tr>\n",
       "      <th>7354</th>\n",
       "      <td>Toy Story 3</td>\n",
       "      <td>Adventure|Animation|Children|Comedy|Fantasy|IMAX</td>\n",
       "    </tr>\n",
       "    <tr>\n",
       "      <th>3595</th>\n",
       "      <td>Toy, The</td>\n",
       "      <td>Comedy</td>\n",
       "    </tr>\n",
       "    <tr>\n",
       "      <th>2539</th>\n",
       "      <td>We're Back! A Dinosaur's Story</td>\n",
       "      <td>Adventure|Animation|Children|Fantasy</td>\n",
       "    </tr>\n",
       "    <tr>\n",
       "      <th>2227</th>\n",
       "      <td>Story of Us, The</td>\n",
       "      <td>Comedy|Drama</td>\n",
       "    </tr>\n",
       "    <tr>\n",
       "      <th>4089</th>\n",
       "      <td>Toy Soldiers</td>\n",
       "      <td>Action|Drama</td>\n",
       "    </tr>\n",
       "    <tr>\n",
       "      <th>7038</th>\n",
       "      <td>Up</td>\n",
       "      <td>Adventure|Animation|Children|Drama</td>\n",
       "    </tr>\n",
       "    <tr>\n",
       "      <th>1617</th>\n",
       "      <td>NeverEnding Story, The</td>\n",
       "      <td>Adventure|Children|Fantasy</td>\n",
       "    </tr>\n",
       "    <tr>\n",
       "      <th>1570</th>\n",
       "      <td>L.A. Story</td>\n",
       "      <td>Comedy|Romance</td>\n",
       "    </tr>\n",
       "    <tr>\n",
       "      <th>6193</th>\n",
       "      <td>Wild, The</td>\n",
       "      <td>Adventure|Animation|Children|Comedy|Fantasy</td>\n",
       "    </tr>\n",
       "  </tbody>\n",
       "</table>\n",
       "</div>"
      ],
      "text/plain": [
       "                         clean_title  \\\n",
       "2355                     Toy Story 2   \n",
       "7354                     Toy Story 3   \n",
       "3595                        Toy, The   \n",
       "2539  We're Back! A Dinosaur's Story   \n",
       "2227                Story of Us, The   \n",
       "4089                    Toy Soldiers   \n",
       "7038                              Up   \n",
       "1617          NeverEnding Story, The   \n",
       "1570                      L.A. Story   \n",
       "6193                       Wild, The   \n",
       "\n",
       "                                                genres  \n",
       "2355       Adventure|Animation|Children|Comedy|Fantasy  \n",
       "7354  Adventure|Animation|Children|Comedy|Fantasy|IMAX  \n",
       "3595                                            Comedy  \n",
       "2539              Adventure|Animation|Children|Fantasy  \n",
       "2227                                      Comedy|Drama  \n",
       "4089                                      Action|Drama  \n",
       "7038                Adventure|Animation|Children|Drama  \n",
       "1617                        Adventure|Children|Fantasy  \n",
       "1570                                    Comedy|Romance  \n",
       "6193       Adventure|Animation|Children|Comedy|Fantasy  "
      ]
     },
     "execution_count": 41,
     "metadata": {},
     "output_type": "execute_result"
    }
   ],
   "source": [
    "recommend_movies('Toy Story')"
   ]
  },
  {
   "cell_type": "code",
   "execution_count": null,
   "id": "5d9d8371-2c73-4e9f-b0b0-1e45289ad3ec",
   "metadata": {},
   "outputs": [],
   "source": []
  },
  {
   "cell_type": "markdown",
   "id": "cd874390-c6d8-497d-8f65-6450e43f0577",
   "metadata": {},
   "source": [
    "# Hybrid System (Content + Rating)"
   ]
  },
  {
   "cell_type": "code",
   "execution_count": 42,
   "id": "5cc25201-5a41-4611-81eb-02e380f5e458",
   "metadata": {},
   "outputs": [
    {
     "data": {
      "text/html": [
       "<div>\n",
       "<style scoped>\n",
       "    .dataframe tbody tr th:only-of-type {\n",
       "        vertical-align: middle;\n",
       "    }\n",
       "\n",
       "    .dataframe tbody tr th {\n",
       "        vertical-align: top;\n",
       "    }\n",
       "\n",
       "    .dataframe thead th {\n",
       "        text-align: right;\n",
       "    }\n",
       "</style>\n",
       "<table border=\"1\" class=\"dataframe\">\n",
       "  <thead>\n",
       "    <tr style=\"text-align: right;\">\n",
       "      <th></th>\n",
       "      <th>userId</th>\n",
       "      <th>movieId</th>\n",
       "      <th>rating</th>\n",
       "      <th>timestamp</th>\n",
       "    </tr>\n",
       "  </thead>\n",
       "  <tbody>\n",
       "    <tr>\n",
       "      <th>0</th>\n",
       "      <td>1</td>\n",
       "      <td>1</td>\n",
       "      <td>4.0</td>\n",
       "      <td>964982703</td>\n",
       "    </tr>\n",
       "    <tr>\n",
       "      <th>1</th>\n",
       "      <td>1</td>\n",
       "      <td>3</td>\n",
       "      <td>4.0</td>\n",
       "      <td>964981247</td>\n",
       "    </tr>\n",
       "    <tr>\n",
       "      <th>2</th>\n",
       "      <td>1</td>\n",
       "      <td>6</td>\n",
       "      <td>4.0</td>\n",
       "      <td>964982224</td>\n",
       "    </tr>\n",
       "  </tbody>\n",
       "</table>\n",
       "</div>"
      ],
      "text/plain": [
       "   userId  movieId  rating  timestamp\n",
       "0       1        1     4.0  964982703\n",
       "1       1        3     4.0  964981247\n",
       "2       1        6     4.0  964982224"
      ]
     },
     "execution_count": 42,
     "metadata": {},
     "output_type": "execute_result"
    }
   ],
   "source": [
    "ratings = pd.read_csv('./ml-latest-small/ratings.csv')\n",
    "ratings.head(3)"
   ]
  },
  {
   "cell_type": "code",
   "execution_count": 43,
   "id": "9cdc4e7f-45d7-45bf-83e9-3016aa14d353",
   "metadata": {},
   "outputs": [],
   "source": [
    "movie_ratings = ratings.groupby('movieId')['rating'].mean().reset_index()"
   ]
  },
  {
   "cell_type": "code",
   "execution_count": 44,
   "id": "4900709b-dfb6-4bc0-81a2-1379431785d9",
   "metadata": {},
   "outputs": [],
   "source": [
    "movie_ratings.columns = ['movieId', 'avg_ratings']"
   ]
  },
  {
   "cell_type": "code",
   "execution_count": 45,
   "id": "6fa1ef3a-ad7d-4a9e-83a4-530c28a06926",
   "metadata": {},
   "outputs": [
    {
     "data": {
      "text/html": [
       "<div>\n",
       "<style scoped>\n",
       "    .dataframe tbody tr th:only-of-type {\n",
       "        vertical-align: middle;\n",
       "    }\n",
       "\n",
       "    .dataframe tbody tr th {\n",
       "        vertical-align: top;\n",
       "    }\n",
       "\n",
       "    .dataframe thead th {\n",
       "        text-align: right;\n",
       "    }\n",
       "</style>\n",
       "<table border=\"1\" class=\"dataframe\">\n",
       "  <thead>\n",
       "    <tr style=\"text-align: right;\">\n",
       "      <th></th>\n",
       "      <th>movieId</th>\n",
       "      <th>avg_ratings</th>\n",
       "    </tr>\n",
       "  </thead>\n",
       "  <tbody>\n",
       "    <tr>\n",
       "      <th>0</th>\n",
       "      <td>1</td>\n",
       "      <td>3.920930</td>\n",
       "    </tr>\n",
       "    <tr>\n",
       "      <th>1</th>\n",
       "      <td>2</td>\n",
       "      <td>3.431818</td>\n",
       "    </tr>\n",
       "    <tr>\n",
       "      <th>2</th>\n",
       "      <td>3</td>\n",
       "      <td>3.259615</td>\n",
       "    </tr>\n",
       "  </tbody>\n",
       "</table>\n",
       "</div>"
      ],
      "text/plain": [
       "   movieId  avg_ratings\n",
       "0        1     3.920930\n",
       "1        2     3.431818\n",
       "2        3     3.259615"
      ]
     },
     "execution_count": 45,
     "metadata": {},
     "output_type": "execute_result"
    }
   ],
   "source": [
    "movie_ratings.head(3)"
   ]
  },
  {
   "cell_type": "code",
   "execution_count": 46,
   "id": "bfe73e66-8a36-4bdc-bf0d-842667b23a24",
   "metadata": {},
   "outputs": [],
   "source": [
    "movie_with_rating = pd.merge(movies, movie_ratings, on='movieId', how='left')"
   ]
  },
  {
   "cell_type": "code",
   "execution_count": 47,
   "id": "a7b5c8e5-401d-4ed6-9dd0-a2aefbff63a4",
   "metadata": {},
   "outputs": [
    {
     "data": {
      "text/html": [
       "<div>\n",
       "<style scoped>\n",
       "    .dataframe tbody tr th:only-of-type {\n",
       "        vertical-align: middle;\n",
       "    }\n",
       "\n",
       "    .dataframe tbody tr th {\n",
       "        vertical-align: top;\n",
       "    }\n",
       "\n",
       "    .dataframe thead th {\n",
       "        text-align: right;\n",
       "    }\n",
       "</style>\n",
       "<table border=\"1\" class=\"dataframe\">\n",
       "  <thead>\n",
       "    <tr style=\"text-align: right;\">\n",
       "      <th></th>\n",
       "      <th>index</th>\n",
       "      <th>movieId</th>\n",
       "      <th>title</th>\n",
       "      <th>genres</th>\n",
       "      <th>year</th>\n",
       "      <th>clean_title</th>\n",
       "      <th>content</th>\n",
       "      <th>avg_ratings</th>\n",
       "    </tr>\n",
       "  </thead>\n",
       "  <tbody>\n",
       "    <tr>\n",
       "      <th>0</th>\n",
       "      <td>0</td>\n",
       "      <td>1</td>\n",
       "      <td>Toy Story (1995)</td>\n",
       "      <td>Adventure|Animation|Children|Comedy|Fantasy</td>\n",
       "      <td>1995.0</td>\n",
       "      <td>Toy Story</td>\n",
       "      <td>Toy Story Adventure Animation Children Comedy ...</td>\n",
       "      <td>3.920930</td>\n",
       "    </tr>\n",
       "    <tr>\n",
       "      <th>1</th>\n",
       "      <td>1</td>\n",
       "      <td>2</td>\n",
       "      <td>Jumanji (1995)</td>\n",
       "      <td>Adventure|Children|Fantasy</td>\n",
       "      <td>1995.0</td>\n",
       "      <td>Jumanji</td>\n",
       "      <td>Jumanji Adventure Children Fantasy</td>\n",
       "      <td>3.431818</td>\n",
       "    </tr>\n",
       "    <tr>\n",
       "      <th>2</th>\n",
       "      <td>2</td>\n",
       "      <td>3</td>\n",
       "      <td>Grumpier Old Men (1995)</td>\n",
       "      <td>Comedy|Romance</td>\n",
       "      <td>1995.0</td>\n",
       "      <td>Grumpier Old Men</td>\n",
       "      <td>Grumpier Old Men Comedy Romance</td>\n",
       "      <td>3.259615</td>\n",
       "    </tr>\n",
       "    <tr>\n",
       "      <th>3</th>\n",
       "      <td>3</td>\n",
       "      <td>4</td>\n",
       "      <td>Waiting to Exhale (1995)</td>\n",
       "      <td>Comedy|Drama|Romance</td>\n",
       "      <td>1995.0</td>\n",
       "      <td>Waiting to Exhale</td>\n",
       "      <td>Waiting to Exhale Comedy Drama Romance</td>\n",
       "      <td>2.357143</td>\n",
       "    </tr>\n",
       "    <tr>\n",
       "      <th>4</th>\n",
       "      <td>4</td>\n",
       "      <td>5</td>\n",
       "      <td>Father of the Bride Part II (1995)</td>\n",
       "      <td>Comedy</td>\n",
       "      <td>1995.0</td>\n",
       "      <td>Father of the Bride Part II</td>\n",
       "      <td>Father of the Bride Part II Comedy</td>\n",
       "      <td>3.071429</td>\n",
       "    </tr>\n",
       "  </tbody>\n",
       "</table>\n",
       "</div>"
      ],
      "text/plain": [
       "   index  movieId                               title  \\\n",
       "0      0        1                    Toy Story (1995)   \n",
       "1      1        2                      Jumanji (1995)   \n",
       "2      2        3             Grumpier Old Men (1995)   \n",
       "3      3        4            Waiting to Exhale (1995)   \n",
       "4      4        5  Father of the Bride Part II (1995)   \n",
       "\n",
       "                                        genres    year  \\\n",
       "0  Adventure|Animation|Children|Comedy|Fantasy  1995.0   \n",
       "1                   Adventure|Children|Fantasy  1995.0   \n",
       "2                               Comedy|Romance  1995.0   \n",
       "3                         Comedy|Drama|Romance  1995.0   \n",
       "4                                       Comedy  1995.0   \n",
       "\n",
       "                   clean_title  \\\n",
       "0                    Toy Story   \n",
       "1                      Jumanji   \n",
       "2             Grumpier Old Men   \n",
       "3            Waiting to Exhale   \n",
       "4  Father of the Bride Part II   \n",
       "\n",
       "                                             content  avg_ratings  \n",
       "0  Toy Story Adventure Animation Children Comedy ...     3.920930  \n",
       "1                 Jumanji Adventure Children Fantasy     3.431818  \n",
       "2                    Grumpier Old Men Comedy Romance     3.259615  \n",
       "3             Waiting to Exhale Comedy Drama Romance     2.357143  \n",
       "4                 Father of the Bride Part II Comedy     3.071429  "
      ]
     },
     "execution_count": 47,
     "metadata": {},
     "output_type": "execute_result"
    }
   ],
   "source": [
    "movie_with_rating.head()"
   ]
  },
  {
   "cell_type": "code",
   "execution_count": 48,
   "id": "66fb3779-2d65-4493-ac90-7d17b4e9a8b9",
   "metadata": {},
   "outputs": [
    {
     "data": {
      "text/plain": [
       "index           0\n",
       "movieId         0\n",
       "title           0\n",
       "genres          0\n",
       "year            0\n",
       "clean_title     0\n",
       "content         0\n",
       "avg_ratings    18\n",
       "dtype: int64"
      ]
     },
     "execution_count": 48,
     "metadata": {},
     "output_type": "execute_result"
    }
   ],
   "source": [
    "movie_with_rating.isnull().sum()"
   ]
  },
  {
   "cell_type": "code",
   "execution_count": 49,
   "id": "8c6efe6a-e362-4714-ac19-d83c50575d73",
   "metadata": {},
   "outputs": [],
   "source": [
    "movie_with_rating.fillna(0, inplace=True)"
   ]
  },
  {
   "cell_type": "code",
   "execution_count": 50,
   "id": "3406e6d8-44e3-4457-b97d-ec4ecdfdddac",
   "metadata": {},
   "outputs": [
    {
     "data": {
      "text/plain": [
       "clean_title\n",
       "toy story                      0\n",
       "jumanji                        1\n",
       "grumpier old men               2\n",
       "waiting to exhale              3\n",
       "father of the bride part ii    4\n",
       "dtype: int64"
      ]
     },
     "execution_count": 50,
     "metadata": {},
     "output_type": "execute_result"
    }
   ],
   "source": [
    "title_to_index.head()"
   ]
  },
  {
   "cell_type": "code",
   "execution_count": 51,
   "id": "de5888eb-7887-493a-888d-03067bd45a5e",
   "metadata": {},
   "outputs": [],
   "source": [
    "def hybrid_recommend(title, top_n= 10, alpha=0.7):\n",
    "    titlee= title.lower()\n",
    "\n",
    "    if title not in title_to_index: \n",
    "        print(f\"Movie {title} not found in the dataset\")\n",
    "        return [] \n",
    "\n",
    "    idx = title_to_index[title] \n",
    "    sim_scores = list(enumerate(cosine_sim[idx]))\n",
    "    sim_scores = sorted(sim_scores, key= lambda x: x[1], reverse= True)[1:]\n",
    "\n",
    "    hybrid_scores = [] \n",
    "    for i, scores in sim_scores: \n",
    "        rating = movie_with_rating.loc[i, 'avg_ratings'] \n",
    "        hybrid_score = alpha * scores + (1-alpha) * (rating/5.0)\n",
    "        hybrid_scores.append((i, hybrid_score))\n",
    "\n",
    "    hybrid_scores = sorted(hybrid_scores, key = lambda x: x[1], reverse=True)[:top_n]\n",
    "\n",
    "    movie_indices = [i[0] for i in hybrid_scores]\n",
    "    return movie_with_rating[['clean_title', 'genres', 'avg_ratings']].iloc[movie_indices]\n",
    "    "
   ]
  },
  {
   "cell_type": "code",
   "execution_count": 52,
   "id": "10378c86-c232-4ef9-8627-c696263139ef",
   "metadata": {},
   "outputs": [
    {
     "data": {
      "text/html": [
       "<div>\n",
       "<style scoped>\n",
       "    .dataframe tbody tr th:only-of-type {\n",
       "        vertical-align: middle;\n",
       "    }\n",
       "\n",
       "    .dataframe tbody tr th {\n",
       "        vertical-align: top;\n",
       "    }\n",
       "\n",
       "    .dataframe thead th {\n",
       "        text-align: right;\n",
       "    }\n",
       "</style>\n",
       "<table border=\"1\" class=\"dataframe\">\n",
       "  <thead>\n",
       "    <tr style=\"text-align: right;\">\n",
       "      <th></th>\n",
       "      <th>clean_title</th>\n",
       "      <th>genres</th>\n",
       "      <th>avg_ratings</th>\n",
       "    </tr>\n",
       "  </thead>\n",
       "  <tbody>\n",
       "    <tr>\n",
       "      <th>2355</th>\n",
       "      <td>Toy Story 2</td>\n",
       "      <td>Adventure|Animation|Children|Comedy|Fantasy</td>\n",
       "      <td>3.860825</td>\n",
       "    </tr>\n",
       "    <tr>\n",
       "      <th>7354</th>\n",
       "      <td>Toy Story 3</td>\n",
       "      <td>Adventure|Animation|Children|Comedy|Fantasy|IMAX</td>\n",
       "      <td>4.109091</td>\n",
       "    </tr>\n",
       "    <tr>\n",
       "      <th>3595</th>\n",
       "      <td>Toy, The</td>\n",
       "      <td>Comedy</td>\n",
       "      <td>2.375000</td>\n",
       "    </tr>\n",
       "    <tr>\n",
       "      <th>7038</th>\n",
       "      <td>Up</td>\n",
       "      <td>Adventure|Animation|Children|Drama</td>\n",
       "      <td>4.004762</td>\n",
       "    </tr>\n",
       "    <tr>\n",
       "      <th>2539</th>\n",
       "      <td>We're Back! A Dinosaur's Story</td>\n",
       "      <td>Adventure|Animation|Children|Fantasy</td>\n",
       "      <td>3.000000</td>\n",
       "    </tr>\n",
       "    <tr>\n",
       "      <th>2110</th>\n",
       "      <td>Christmas Story, A</td>\n",
       "      <td>Children|Comedy</td>\n",
       "      <td>3.972727</td>\n",
       "    </tr>\n",
       "    <tr>\n",
       "      <th>1617</th>\n",
       "      <td>NeverEnding Story, The</td>\n",
       "      <td>Adventure|Children|Fantasy</td>\n",
       "      <td>3.581395</td>\n",
       "    </tr>\n",
       "    <tr>\n",
       "      <th>9534</th>\n",
       "      <td>A Detective Story</td>\n",
       "      <td>Animation|Sci-Fi</td>\n",
       "      <td>5.000000</td>\n",
       "    </tr>\n",
       "    <tr>\n",
       "      <th>1570</th>\n",
       "      <td>L.A. Story</td>\n",
       "      <td>Comedy|Romance</td>\n",
       "      <td>3.479167</td>\n",
       "    </tr>\n",
       "    <tr>\n",
       "      <th>3568</th>\n",
       "      <td>Monsters, Inc.</td>\n",
       "      <td>Adventure|Animation|Children|Comedy|Fantasy</td>\n",
       "      <td>3.871212</td>\n",
       "    </tr>\n",
       "  </tbody>\n",
       "</table>\n",
       "</div>"
      ],
      "text/plain": [
       "                         clean_title  \\\n",
       "2355                     Toy Story 2   \n",
       "7354                     Toy Story 3   \n",
       "3595                        Toy, The   \n",
       "7038                              Up   \n",
       "2539  We're Back! A Dinosaur's Story   \n",
       "2110              Christmas Story, A   \n",
       "1617          NeverEnding Story, The   \n",
       "9534               A Detective Story   \n",
       "1570                      L.A. Story   \n",
       "3568                  Monsters, Inc.   \n",
       "\n",
       "                                                genres  avg_ratings  \n",
       "2355       Adventure|Animation|Children|Comedy|Fantasy     3.860825  \n",
       "7354  Adventure|Animation|Children|Comedy|Fantasy|IMAX     4.109091  \n",
       "3595                                            Comedy     2.375000  \n",
       "7038                Adventure|Animation|Children|Drama     4.004762  \n",
       "2539              Adventure|Animation|Children|Fantasy     3.000000  \n",
       "2110                                   Children|Comedy     3.972727  \n",
       "1617                        Adventure|Children|Fantasy     3.581395  \n",
       "9534                                  Animation|Sci-Fi     5.000000  \n",
       "1570                                    Comedy|Romance     3.479167  \n",
       "3568       Adventure|Animation|Children|Comedy|Fantasy     3.871212  "
      ]
     },
     "execution_count": 52,
     "metadata": {},
     "output_type": "execute_result"
    }
   ],
   "source": [
    "hybrid_recommend(\"toy story\")"
   ]
  },
  {
   "cell_type": "markdown",
   "id": "759965bf-5445-4dfb-b20d-a337ee6dca11",
   "metadata": {},
   "source": [
    "# Personalized Hybrid Recommender"
   ]
  },
  {
   "cell_type": "code",
   "execution_count": 53,
   "id": "44f61c92-c5f6-40bd-9bf6-0bea5f5d9722",
   "metadata": {},
   "outputs": [],
   "source": [
    "def personalized_hybrid(uder_id, top_n= 10): \n",
    "    user_ratings = ratings[ratings['userId'] == user_id]\n",
    "\n",
    "    if user_ratings.empty: \n",
    "        print(f\"No rating found for user {user_id}.\")\n",
    "        return [] \n",
    "\n",
    "    user_ratings = user_ratings.sort_values(by='rating', ascending=False)\n",
    "    top_rated = user_ratings[user_ratings['rating'] >= 4.0]\n",
    "\n",
    "    scores = {}\n",
    "\n",
    "    for _, row in top_rated.iterrows(): \n",
    "        movie_id = row['movieId']\n",
    "        rating = row['rating']\n",
    "\n",
    "        if movie_id not in movie_with_rating['movieId'].values:\n",
    "            continue\n",
    "\n",
    "        idx = movie_with_rating[movie_with_rating['movieId'] == movie_id].index[0]\n",
    "        sim_scores = list(enumerate(cosine_sim[idx]))\n",
    "\n",
    "        for i, sim in sim_scores:\n",
    "            movie_candidate_id = movie_with_rating.loc[i, 'movieId']\n",
    "            if movie_candidate_id in user_ratings['movieId'].values: \n",
    "                continue\n",
    "\n",
    "            if i not in scores:\n",
    "                scores[i] = 0\n",
    "            scores[i] += sim * rating\n",
    "\n",
    "    sorted_scores = sorted(scores.items(), key=lambda x: x[1], reverse=True)[:top_n]\n",
    "\n",
    "    movie_indices = [i[0] for i in sorted_scores]\n",
    "    return movie_with_rating[['clean_title', 'genres', 'avg_ratings']].iloc[movie_indices]"
   ]
  },
  {
   "cell_type": "code",
   "execution_count": 55,
   "id": "454256d9-4f06-4f8c-ae00-26fa0e41cefd",
   "metadata": {},
   "outputs": [
    {
     "data": {
      "text/html": [
       "<div>\n",
       "<style scoped>\n",
       "    .dataframe tbody tr th:only-of-type {\n",
       "        vertical-align: middle;\n",
       "    }\n",
       "\n",
       "    .dataframe tbody tr th {\n",
       "        vertical-align: top;\n",
       "    }\n",
       "\n",
       "    .dataframe thead th {\n",
       "        text-align: right;\n",
       "    }\n",
       "</style>\n",
       "<table border=\"1\" class=\"dataframe\">\n",
       "  <thead>\n",
       "    <tr style=\"text-align: right;\">\n",
       "      <th></th>\n",
       "      <th>clean_title</th>\n",
       "      <th>genres</th>\n",
       "      <th>avg_ratings</th>\n",
       "    </tr>\n",
       "  </thead>\n",
       "  <tbody>\n",
       "    <tr>\n",
       "      <th>7038</th>\n",
       "      <td>Up</td>\n",
       "      <td>Adventure|Animation|Children|Drama</td>\n",
       "      <td>4.004762</td>\n",
       "    </tr>\n",
       "    <tr>\n",
       "      <th>26</th>\n",
       "      <td>Now and Then</td>\n",
       "      <td>Children|Drama</td>\n",
       "      <td>3.333333</td>\n",
       "    </tr>\n",
       "    <tr>\n",
       "      <th>8056</th>\n",
       "      <td>Fire with Fire</td>\n",
       "      <td>Action|Crime|Drama</td>\n",
       "      <td>1.500000</td>\n",
       "    </tr>\n",
       "    <tr>\n",
       "      <th>9374</th>\n",
       "      <td>Your Name.</td>\n",
       "      <td>Animation|Drama|Fantasy|Romance</td>\n",
       "      <td>4.000000</td>\n",
       "    </tr>\n",
       "    <tr>\n",
       "      <th>6625</th>\n",
       "      <td>Enchanted</td>\n",
       "      <td>Adventure|Animation|Children|Comedy|Fantasy|Mu...</td>\n",
       "      <td>3.676471</td>\n",
       "    </tr>\n",
       "    <tr>\n",
       "      <th>5352</th>\n",
       "      <td>P.S.</td>\n",
       "      <td>Comedy|Drama|Fantasy|Romance</td>\n",
       "      <td>4.250000</td>\n",
       "    </tr>\n",
       "    <tr>\n",
       "      <th>8899</th>\n",
       "      <td>Inside Out</td>\n",
       "      <td>Adventure|Animation|Children|Comedy|Drama|Fantasy</td>\n",
       "      <td>3.813953</td>\n",
       "    </tr>\n",
       "    <tr>\n",
       "      <th>2355</th>\n",
       "      <td>Toy Story 2</td>\n",
       "      <td>Adventure|Animation|Children|Comedy|Fantasy</td>\n",
       "      <td>3.860825</td>\n",
       "    </tr>\n",
       "    <tr>\n",
       "      <th>7354</th>\n",
       "      <td>Toy Story 3</td>\n",
       "      <td>Adventure|Animation|Children|Comedy|Fantasy|IMAX</td>\n",
       "      <td>4.109091</td>\n",
       "    </tr>\n",
       "    <tr>\n",
       "      <th>1390</th>\n",
       "      <td>Mulan</td>\n",
       "      <td>Adventure|Animation|Children|Comedy|Drama|Musi...</td>\n",
       "      <td>3.566667</td>\n",
       "    </tr>\n",
       "  </tbody>\n",
       "</table>\n",
       "</div>"
      ],
      "text/plain": [
       "         clean_title                                             genres  \\\n",
       "7038              Up                 Adventure|Animation|Children|Drama   \n",
       "26      Now and Then                                     Children|Drama   \n",
       "8056  Fire with Fire                                 Action|Crime|Drama   \n",
       "9374      Your Name.                    Animation|Drama|Fantasy|Romance   \n",
       "6625       Enchanted  Adventure|Animation|Children|Comedy|Fantasy|Mu...   \n",
       "5352            P.S.                       Comedy|Drama|Fantasy|Romance   \n",
       "8899      Inside Out  Adventure|Animation|Children|Comedy|Drama|Fantasy   \n",
       "2355     Toy Story 2        Adventure|Animation|Children|Comedy|Fantasy   \n",
       "7354     Toy Story 3   Adventure|Animation|Children|Comedy|Fantasy|IMAX   \n",
       "1390           Mulan  Adventure|Animation|Children|Comedy|Drama|Musi...   \n",
       "\n",
       "      avg_ratings  \n",
       "7038     4.004762  \n",
       "26       3.333333  \n",
       "8056     1.500000  \n",
       "9374     4.000000  \n",
       "6625     3.676471  \n",
       "5352     4.250000  \n",
       "8899     3.813953  \n",
       "2355     3.860825  \n",
       "7354     4.109091  \n",
       "1390     3.566667  "
      ]
     },
     "execution_count": 55,
     "metadata": {},
     "output_type": "execute_result"
    }
   ],
   "source": [
    "user_id = 5\n",
    "personalized_hybrid(user_id)"
   ]
  },
  {
   "cell_type": "code",
   "execution_count": null,
   "id": "1d96bf6e-40d8-4fda-852b-7931d4eccd01",
   "metadata": {},
   "outputs": [],
   "source": []
  }
 ],
 "metadata": {
  "kernelspec": {
   "display_name": "Python 3 (ipykernel)",
   "language": "python",
   "name": "python3"
  },
  "language_info": {
   "codemirror_mode": {
    "name": "ipython",
    "version": 3
   },
   "file_extension": ".py",
   "mimetype": "text/x-python",
   "name": "python",
   "nbconvert_exporter": "python",
   "pygments_lexer": "ipython3",
   "version": "3.12.3"
  }
 },
 "nbformat": 4,
 "nbformat_minor": 5
}
